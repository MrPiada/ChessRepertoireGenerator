{
 "cells": [
  {
   "cell_type": "code",
   "execution_count": 19,
   "metadata": {},
   "outputs": [],
   "source": [
    "import requests\n",
    "import chess.pgn\n",
    "import chess\n",
    "import json\n",
    "from chess.engine import Cp"
   ]
  },
  {
   "cell_type": "code",
   "execution_count": 20,
   "metadata": {},
   "outputs": [],
   "source": [
    "url = \"https://explorer.lichess.ovh/lichess\"\n",
    "\n",
    "params = {\n",
    "    \"variant\": \"standard\",\n",
    "    \"speeds\": \"blitz,rapid,classical\",\n",
    "    \"ratings\": \"2200,2500\",\n",
    "    \"fen\": None\n",
    "}\n",
    "\n",
    "url_eval = \"https://lichess.org/api/cloud-eval\"\n",
    "\n",
    "params_eval = {\n",
    "    \"variant\": \"standard\",\n",
    "    \"multiPv\": \"1\",\n",
    "    \"fen\": None\n",
    "}"
   ]
  },
  {
   "cell_type": "code",
   "execution_count": 21,
   "metadata": {},
   "outputs": [],
   "source": [
    "game = chess.pgn.Game()\n",
    "\n",
    "game.headers[\"Event\"] = \"Prova API Lichess\""
   ]
  },
  {
   "cell_type": "code",
   "execution_count": 22,
   "metadata": {},
   "outputs": [],
   "source": [
    "def get_cloud_eval(node):\n",
    "    \n",
    "    params_eval['fen'] = node.board().fen()\n",
    "    response = requests.get(url_eval, params=params_eval)\n",
    "    tree = json.loads(response.content.decode())\n",
    "        \n",
    "    return tree['pvs'][0]['cp']"
   ]
  },
  {
   "cell_type": "code",
   "execution_count": 23,
   "metadata": {},
   "outputs": [],
   "source": [
    "def get_comment(tree):\n",
    "    # Commento dello score\n",
    "    w = tree['white']\n",
    "    b = tree['black']\n",
    "    d = tree['draws']\n",
    "\n",
    "    tot = w+b+d\n",
    "\n",
    "    perc_w = (int)(w/tot * 100)\n",
    "    perc_b = (int)(b/tot * 100)\n",
    "    perc_d = (int)(d/tot * 100)\n",
    "\n",
    "    comment = f\"{perc_w}/{perc_d}/{perc_b}\"\n",
    "    \n",
    "    return comment"
   ]
  },
  {
   "cell_type": "code",
   "execution_count": 24,
   "metadata": {},
   "outputs": [],
   "source": [
    "def MakeMove(move, node, move_comment, max_depth):   \n",
    "        \n",
    "    # eseguo la mossa richiesta\n",
    "    child_node = node.add_variation(chess.Move.from_uci(move))\n",
    "\n",
    "    child_node.comment = move_comment\n",
    "    \n",
    "    eval = get_cloud_eval(child_node)\n",
    "    \n",
    "    child_node.set_eval(chess.engine.PovScore(Cp(42), chess.WHITE))\n",
    "    \n",
    "    # interrompo la ricerca se raggiungo la profondità massima\n",
    "    if(child_node.ply() > max_depth):\n",
    "        return\n",
    "    \n",
    "    # ottengo il codice fen della posizione\n",
    "    params[\"fen\"] = child_node.board().fen()\n",
    "    \n",
    "    # eseguo la chiamata all'API lichess\n",
    "    response = requests.get(url, params=params)\n",
    "    \n",
    "    # parsing della response\n",
    "    tree = json.loads(response.content.decode())\n",
    "    \n",
    "    comment = get_comment(tree)\n",
    "    \n",
    "    MakeMove(tree['moves'][0]['uci'], child_node, comment, max_depth)\n",
    "    MakeMove(tree['moves'][1]['uci'], child_node, comment, max_depth)"
   ]
  },
  {
   "cell_type": "code",
   "execution_count": 25,
   "metadata": {},
   "outputs": [],
   "source": [
    "MakeMove(\"e2e4\", game, \"\", 2)"
   ]
  },
  {
   "cell_type": "code",
   "execution_count": 26,
   "metadata": {},
   "outputs": [],
   "source": [
    "# Salvataggio della partita in formato PGN\n",
    "with open(\"repertorio.pgn\", \"w\") as f:\n",
    "    exporter = chess.pgn.FileExporter(f)\n",
    "    game.accept(exporter)"
   ]
  },
  {
   "cell_type": "code",
   "execution_count": 27,
   "metadata": {},
   "outputs": [
    {
     "name": "stdout",
     "output_type": "stream",
     "text": [
      "[Event \"Prova API Lichess\"]\n",
      "[Site \"?\"]\n",
      "[Date \"????.??.??\"]\n",
      "[Round \"?\"]\n",
      "[White \"?\"]\n",
      "[Black \"?\"]\n",
      "[Result \"*\"]\n",
      "\n",
      "1. e4 { [%eval 0.42] } 1... c5 { 47/7/44 [%eval 0.42] } ( 1... e5 { 47/7/44 [%eval 0.42] } 2. Nf3 { 48/7/44 [%eval 0.42] } ( 2. Nc3 { 48/7/44 [%eval 0.42] } ) ) 2. Nf3 { 47/7/45 [%eval 0.42] } ( 2. Nc3 { 47/7/45 [%eval 0.42] } ) *\n"
     ]
    }
   ],
   "source": [
    "print(game)"
   ]
  },
  {
   "cell_type": "code",
   "execution_count": null,
   "metadata": {},
   "outputs": [],
   "source": []
  }
 ],
 "metadata": {
  "kernelspec": {
   "display_name": "base",
   "language": "python",
   "name": "python3"
  },
  "language_info": {
   "codemirror_mode": {
    "name": "ipython",
    "version": 3
   },
   "file_extension": ".py",
   "mimetype": "text/x-python",
   "name": "python",
   "nbconvert_exporter": "python",
   "pygments_lexer": "ipython3",
   "version": "3.10.9"
  },
  "orig_nbformat": 4
 },
 "nbformat": 4,
 "nbformat_minor": 2
}
