{
 "cells": [
  {
   "cell_type": "code",
   "execution_count": 1,
   "metadata": {},
   "outputs": [],
   "source": [
    "import requests\n",
    "import chess\n",
    "import chess.pgn\n",
    "import json\n",
    "from chess.engine import Cp\n",
    "import pandas as pd"
   ]
  },
  {
   "cell_type": "code",
   "execution_count": 2,
   "metadata": {},
   "outputs": [],
   "source": [
    "url = \"https://explorer.lichess.ovh/lichess\"\n",
    "\n",
    "params = {\n",
    "    \"variant\": \"standard\",\n",
    "    \"speeds\": \"blitz,rapid,classical\",\n",
    "    \"ratings\": \"2200,2500\",\n",
    "    \"fen\": None\n",
    "}\n",
    "\n",
    "\n",
    "url_eval = \"https://lichess.org/api/cloud-eval\"\n",
    "\n",
    "params_eval = {\n",
    "    \"variant\": \"standard\",\n",
    "    \"multiPv\": \"1\",\n",
    "    \"fen\": None\n",
    "}"
   ]
  },
  {
   "cell_type": "code",
   "execution_count": 3,
   "metadata": {},
   "outputs": [],
   "source": [
    "game = chess.pgn.Game()\n",
    "\n",
    "game.headers[\"Event\"] = \"Example\""
   ]
  },
  {
   "cell_type": "code",
   "execution_count": 4,
   "metadata": {},
   "outputs": [],
   "source": [
    "node = game.add_variation(chess.Move.from_uci(\"g2g4\"))"
   ]
  },
  {
   "cell_type": "code",
   "execution_count": 5,
   "metadata": {},
   "outputs": [],
   "source": [
    "params[\"fen\"] = node.board().fen()"
   ]
  },
  {
   "cell_type": "code",
   "execution_count": 6,
   "metadata": {},
   "outputs": [],
   "source": [
    "response = requests.get(url, params=params)"
   ]
  },
  {
   "cell_type": "code",
   "execution_count": 7,
   "metadata": {},
   "outputs": [],
   "source": [
    "tree = json.loads(response.content.decode())"
   ]
  },
  {
   "cell_type": "code",
   "execution_count": 8,
   "metadata": {},
   "outputs": [
    {
     "data": {
      "text/plain": [
       "'d7d5'"
      ]
     },
     "execution_count": 8,
     "metadata": {},
     "output_type": "execute_result"
    }
   ],
   "source": [
    "tree['moves'][0]['uci']"
   ]
  },
  {
   "cell_type": "code",
   "execution_count": 9,
   "metadata": {},
   "outputs": [
    {
     "data": {
      "text/plain": [
       "1"
      ]
     },
     "execution_count": 9,
     "metadata": {},
     "output_type": "execute_result"
    }
   ],
   "source": [
    "node.ply()"
   ]
  },
  {
   "cell_type": "code",
   "execution_count": 10,
   "metadata": {},
   "outputs": [],
   "source": [
    "def get_cloud_eval(node):\n",
    "    \n",
    "    params_eval['fen'] = node.board().fen()\n",
    "    response = requests.get(url_eval, params=params_eval)\n",
    "    tree = json.loads(response.content.decode())\n",
    "        \n",
    "    return tree['pvs'][0]['cp']"
   ]
  },
  {
   "cell_type": "code",
   "execution_count": 11,
   "metadata": {},
   "outputs": [],
   "source": [
    "def compute_evaluations(node, tree_move, total_games):\n",
    "        \n",
    "    w = tree_move['white']\n",
    "    b = tree_move['black']\n",
    "    d = tree_move['draws']\n",
    "\n",
    "    tot = w+b+d\n",
    "\n",
    "    tree_move['tot_games'] = tot\n",
    "\n",
    "    tree_move['white'] = (int)(w/tot * 100)\n",
    "    tree_move['black'] = (int)(b/tot * 100)\n",
    "    tree_move['draws'] = (int)(d/tot * 100)\n",
    "    \n",
    "    tree_move['strongest_practical'] = tree_move['white'] if (node.board().turn) else tree_move['black']\n",
    "        \n",
    "    tree_move['perc'] = (int)((float)(tot)/total_games * 100.)\n",
    "    \n",
    "    n = node.add_variation(chess.Move.from_uci(tree_move['uci']))\n",
    "    tree_move['eval'] = get_cloud_eval(n)/100.\n",
    "        "
   ]
  },
  {
   "cell_type": "code",
   "execution_count": 12,
   "metadata": {},
   "outputs": [],
   "source": [
    "def filter_moves(move_list, bIsWhiteToMove, bIsWhiteRepertoire):\n",
    "    \"\"\"filtra le mosse per trovare o le candidate per il giocatore oppure quelle da considerare dagli avversari\n",
    "\n",
    "    Args:\n",
    "        move_list (list): tree['moves']\n",
    "        bIsWhiteToMove (bool): deve muovere il bianco ?\n",
    "        bIsWhiteRepertoire (bool): booleano che indica se si sta costruendo un repertorio per il bianco o per il nero\n",
    "\n",
    "    Returns:\n",
    "        list: lista delle mosse candidate e loro relativi commenti\n",
    "    \"\"\"\n",
    "    \n",
    "    ret_moves = []\n",
    "    \n",
    "    bIsPlayerTurn = (bIsWhiteToMove == bIsWhiteRepertoire)\n",
    "    \n",
    "    if(bIsPlayerTurn):\n",
    "        sorted_moves = sorted(move_list, key=lambda x: x[\"strongest_practical\"], reverse=True)\n",
    "        \n",
    "        for m in sorted_moves:\n",
    "            if m[\"eval_pos\"] > 3: # se la mossa non è tra le prime tre del motore la scarto\n",
    "                continue\n",
    "            if(bIsWhiteToMove and m['eval'] < -1) or (not bIsWhiteToMove and m['eval'] > 1): # se la mossa ha una valutazione del motore non accettabile (< -1 e tocca la bianco o > 1 e tocca al nero) la scarto\n",
    "                continue\n",
    "            ret_moves.append(m)\n",
    "            return ret_moves # se tocca al giocatore considero solo una mossa alla volta\n",
    "    else:\n",
    "        sorted_moves = sorted(move_list, key=lambda x: x[\"perc\"], reverse=True)\n",
    "        perc_sum = 0\n",
    "        for m in sorted_moves:\n",
    "            ret_moves.append(m)\n",
    "            perc_sum += m[\"perc\"]\n",
    "            if(perc_sum > 80): # considero mosse fino al punto in cui ho coperto almeno l'80% delle mosse giocate\n",
    "                return ret_moves\n",
    "            \n",
    "    return ret_moves"
   ]
  },
  {
   "cell_type": "code",
   "execution_count": 13,
   "metadata": {},
   "outputs": [],
   "source": [
    "total_games = tree['white'] + tree['draws'] + tree['black']\n",
    "\n",
    "for move in tree['moves']:\n",
    "    compute_evaluations(node, move, total_games)\n",
    "    \n",
    "eval_sorted_moves = sorted(tree['moves'], key=lambda x: x[\"eval\"])\n",
    "\n",
    "toMove_sorted_moves = [] #score relativo da db in base a chi deve muovere\n",
    "\n",
    "if(node.board().turn):\n",
    "    toMove_sorted_moves = sorted(tree['moves'], key=lambda x: x[\"white\"], reverse=True)\n",
    "else:\n",
    "    toMove_sorted_moves = sorted(tree['moves'], key=lambda x: x[\"black\"], reverse=True)\n",
    "  \n",
    "toMove_sorted_moves\n",
    "\n",
    "for i, item in enumerate(tree['moves']):\n",
    "    item[\"freq_pos\"] = i\n",
    "    item[\"eval_pos\"] = eval_sorted_moves.index(item)\n",
    "    item[\"dbscore_pos\"] = toMove_sorted_moves.index(item)"
   ]
  },
  {
   "cell_type": "code",
   "execution_count": 14,
   "metadata": {},
   "outputs": [
    {
     "data": {
      "text/html": [
       "<div>\n",
       "<style scoped>\n",
       "    .dataframe tbody tr th:only-of-type {\n",
       "        vertical-align: middle;\n",
       "    }\n",
       "\n",
       "    .dataframe tbody tr th {\n",
       "        vertical-align: top;\n",
       "    }\n",
       "\n",
       "    .dataframe thead th {\n",
       "        text-align: right;\n",
       "    }\n",
       "</style>\n",
       "<table border=\"1\" class=\"dataframe\">\n",
       "  <thead>\n",
       "    <tr style=\"text-align: right;\">\n",
       "      <th></th>\n",
       "      <th>uci</th>\n",
       "      <th>san</th>\n",
       "      <th>averageRating</th>\n",
       "      <th>white</th>\n",
       "      <th>draws</th>\n",
       "      <th>black</th>\n",
       "      <th>game</th>\n",
       "      <th>tot_games</th>\n",
       "      <th>strongest_practical</th>\n",
       "      <th>perc</th>\n",
       "      <th>eval</th>\n",
       "      <th>freq_pos</th>\n",
       "      <th>eval_pos</th>\n",
       "      <th>dbscore_pos</th>\n",
       "    </tr>\n",
       "  </thead>\n",
       "  <tbody>\n",
       "    <tr>\n",
       "      <th>0</th>\n",
       "      <td>d7d5</td>\n",
       "      <td>d5</td>\n",
       "      <td>2305</td>\n",
       "      <td>47</td>\n",
       "      <td>5</td>\n",
       "      <td>46</td>\n",
       "      <td>None</td>\n",
       "      <td>80205</td>\n",
       "      <td>46</td>\n",
       "      <td>52</td>\n",
       "      <td>-1.28</td>\n",
       "      <td>0</td>\n",
       "      <td>0</td>\n",
       "      <td>8</td>\n",
       "    </tr>\n",
       "    <tr>\n",
       "      <th>1</th>\n",
       "      <td>e7e5</td>\n",
       "      <td>e5</td>\n",
       "      <td>2302</td>\n",
       "      <td>45</td>\n",
       "      <td>5</td>\n",
       "      <td>48</td>\n",
       "      <td>None</td>\n",
       "      <td>17545</td>\n",
       "      <td>48</td>\n",
       "      <td>11</td>\n",
       "      <td>-0.93</td>\n",
       "      <td>1</td>\n",
       "      <td>1</td>\n",
       "      <td>2</td>\n",
       "    </tr>\n",
       "    <tr>\n",
       "      <th>2</th>\n",
       "      <td>d7d6</td>\n",
       "      <td>d6</td>\n",
       "      <td>2292</td>\n",
       "      <td>46</td>\n",
       "      <td>5</td>\n",
       "      <td>47</td>\n",
       "      <td>None</td>\n",
       "      <td>9888</td>\n",
       "      <td>47</td>\n",
       "      <td>6</td>\n",
       "      <td>-0.60</td>\n",
       "      <td>2</td>\n",
       "      <td>5</td>\n",
       "      <td>4</td>\n",
       "    </tr>\n",
       "    <tr>\n",
       "      <th>3</th>\n",
       "      <td>c7c5</td>\n",
       "      <td>c5</td>\n",
       "      <td>2290</td>\n",
       "      <td>46</td>\n",
       "      <td>5</td>\n",
       "      <td>48</td>\n",
       "      <td>None</td>\n",
       "      <td>9053</td>\n",
       "      <td>48</td>\n",
       "      <td>5</td>\n",
       "      <td>-0.88</td>\n",
       "      <td>3</td>\n",
       "      <td>2</td>\n",
       "      <td>3</td>\n",
       "    </tr>\n",
       "    <tr>\n",
       "      <th>4</th>\n",
       "      <td>h7h5</td>\n",
       "      <td>h5</td>\n",
       "      <td>2306</td>\n",
       "      <td>44</td>\n",
       "      <td>5</td>\n",
       "      <td>50</td>\n",
       "      <td>None</td>\n",
       "      <td>7955</td>\n",
       "      <td>50</td>\n",
       "      <td>5</td>\n",
       "      <td>-0.44</td>\n",
       "      <td>4</td>\n",
       "      <td>7</td>\n",
       "      <td>0</td>\n",
       "    </tr>\n",
       "    <tr>\n",
       "      <th>5</th>\n",
       "      <td>g7g6</td>\n",
       "      <td>g6</td>\n",
       "      <td>2290</td>\n",
       "      <td>46</td>\n",
       "      <td>6</td>\n",
       "      <td>47</td>\n",
       "      <td>None</td>\n",
       "      <td>6770</td>\n",
       "      <td>47</td>\n",
       "      <td>4</td>\n",
       "      <td>-0.35</td>\n",
       "      <td>5</td>\n",
       "      <td>8</td>\n",
       "      <td>5</td>\n",
       "    </tr>\n",
       "    <tr>\n",
       "      <th>6</th>\n",
       "      <td>c7c6</td>\n",
       "      <td>c6</td>\n",
       "      <td>2289</td>\n",
       "      <td>46</td>\n",
       "      <td>5</td>\n",
       "      <td>47</td>\n",
       "      <td>None</td>\n",
       "      <td>6612</td>\n",
       "      <td>47</td>\n",
       "      <td>4</td>\n",
       "      <td>-0.47</td>\n",
       "      <td>6</td>\n",
       "      <td>6</td>\n",
       "      <td>6</td>\n",
       "    </tr>\n",
       "    <tr>\n",
       "      <th>7</th>\n",
       "      <td>e7e6</td>\n",
       "      <td>e6</td>\n",
       "      <td>2278</td>\n",
       "      <td>46</td>\n",
       "      <td>5</td>\n",
       "      <td>47</td>\n",
       "      <td>None</td>\n",
       "      <td>5516</td>\n",
       "      <td>47</td>\n",
       "      <td>3</td>\n",
       "      <td>-0.61</td>\n",
       "      <td>7</td>\n",
       "      <td>4</td>\n",
       "      <td>7</td>\n",
       "    </tr>\n",
       "    <tr>\n",
       "      <th>8</th>\n",
       "      <td>g8f6</td>\n",
       "      <td>Nf6</td>\n",
       "      <td>2293</td>\n",
       "      <td>48</td>\n",
       "      <td>4</td>\n",
       "      <td>46</td>\n",
       "      <td>None</td>\n",
       "      <td>2192</td>\n",
       "      <td>46</td>\n",
       "      <td>1</td>\n",
       "      <td>0.25</td>\n",
       "      <td>8</td>\n",
       "      <td>10</td>\n",
       "      <td>9</td>\n",
       "    </tr>\n",
       "    <tr>\n",
       "      <th>9</th>\n",
       "      <td>b8c6</td>\n",
       "      <td>Nc6</td>\n",
       "      <td>2282</td>\n",
       "      <td>45</td>\n",
       "      <td>5</td>\n",
       "      <td>49</td>\n",
       "      <td>None</td>\n",
       "      <td>2103</td>\n",
       "      <td>49</td>\n",
       "      <td>1</td>\n",
       "      <td>-0.81</td>\n",
       "      <td>9</td>\n",
       "      <td>3</td>\n",
       "      <td>1</td>\n",
       "    </tr>\n",
       "    <tr>\n",
       "      <th>10</th>\n",
       "      <td>b7b6</td>\n",
       "      <td>b6</td>\n",
       "      <td>2267</td>\n",
       "      <td>53</td>\n",
       "      <td>4</td>\n",
       "      <td>42</td>\n",
       "      <td>None</td>\n",
       "      <td>1334</td>\n",
       "      <td>42</td>\n",
       "      <td>0</td>\n",
       "      <td>-0.09</td>\n",
       "      <td>10</td>\n",
       "      <td>9</td>\n",
       "      <td>10</td>\n",
       "    </tr>\n",
       "    <tr>\n",
       "      <th>11</th>\n",
       "      <td>g7g5</td>\n",
       "      <td>g5</td>\n",
       "      <td>2311</td>\n",
       "      <td>52</td>\n",
       "      <td>8</td>\n",
       "      <td>38</td>\n",
       "      <td>None</td>\n",
       "      <td>761</td>\n",
       "      <td>38</td>\n",
       "      <td>0</td>\n",
       "      <td>0.35</td>\n",
       "      <td>11</td>\n",
       "      <td>11</td>\n",
       "      <td>11</td>\n",
       "    </tr>\n",
       "  </tbody>\n",
       "</table>\n",
       "</div>"
      ],
      "text/plain": [
       "     uci  san  averageRating  white  draws  black  game  tot_games  \\\n",
       "0   d7d5   d5           2305     47      5     46  None      80205   \n",
       "1   e7e5   e5           2302     45      5     48  None      17545   \n",
       "2   d7d6   d6           2292     46      5     47  None       9888   \n",
       "3   c7c5   c5           2290     46      5     48  None       9053   \n",
       "4   h7h5   h5           2306     44      5     50  None       7955   \n",
       "5   g7g6   g6           2290     46      6     47  None       6770   \n",
       "6   c7c6   c6           2289     46      5     47  None       6612   \n",
       "7   e7e6   e6           2278     46      5     47  None       5516   \n",
       "8   g8f6  Nf6           2293     48      4     46  None       2192   \n",
       "9   b8c6  Nc6           2282     45      5     49  None       2103   \n",
       "10  b7b6   b6           2267     53      4     42  None       1334   \n",
       "11  g7g5   g5           2311     52      8     38  None        761   \n",
       "\n",
       "    strongest_practical  perc  eval  freq_pos  eval_pos  dbscore_pos  \n",
       "0                    46    52 -1.28         0         0            8  \n",
       "1                    48    11 -0.93         1         1            2  \n",
       "2                    47     6 -0.60         2         5            4  \n",
       "3                    48     5 -0.88         3         2            3  \n",
       "4                    50     5 -0.44         4         7            0  \n",
       "5                    47     4 -0.35         5         8            5  \n",
       "6                    47     4 -0.47         6         6            6  \n",
       "7                    47     3 -0.61         7         4            7  \n",
       "8                    46     1  0.25         8        10            9  \n",
       "9                    49     1 -0.81         9         3            1  \n",
       "10                   42     0 -0.09        10         9           10  \n",
       "11                   38     0  0.35        11        11           11  "
      ]
     },
     "execution_count": 14,
     "metadata": {},
     "output_type": "execute_result"
    }
   ],
   "source": [
    "pd.DataFrame(tree['moves'])"
   ]
  },
  {
   "cell_type": "code",
   "execution_count": 15,
   "metadata": {},
   "outputs": [],
   "source": [
    "candidates = filter_moves(tree['moves'], bIsWhiteToMove = False, bIsWhiteRepertoire = False)"
   ]
  },
  {
   "cell_type": "code",
   "execution_count": 16,
   "metadata": {},
   "outputs": [
    {
     "data": {
      "text/html": [
       "<div>\n",
       "<style scoped>\n",
       "    .dataframe tbody tr th:only-of-type {\n",
       "        vertical-align: middle;\n",
       "    }\n",
       "\n",
       "    .dataframe tbody tr th {\n",
       "        vertical-align: top;\n",
       "    }\n",
       "\n",
       "    .dataframe thead th {\n",
       "        text-align: right;\n",
       "    }\n",
       "</style>\n",
       "<table border=\"1\" class=\"dataframe\">\n",
       "  <thead>\n",
       "    <tr style=\"text-align: right;\">\n",
       "      <th></th>\n",
       "      <th>uci</th>\n",
       "      <th>san</th>\n",
       "      <th>averageRating</th>\n",
       "      <th>white</th>\n",
       "      <th>draws</th>\n",
       "      <th>black</th>\n",
       "      <th>game</th>\n",
       "      <th>tot_games</th>\n",
       "      <th>strongest_practical</th>\n",
       "      <th>perc</th>\n",
       "      <th>eval</th>\n",
       "      <th>freq_pos</th>\n",
       "      <th>eval_pos</th>\n",
       "      <th>dbscore_pos</th>\n",
       "    </tr>\n",
       "  </thead>\n",
       "  <tbody>\n",
       "    <tr>\n",
       "      <th>0</th>\n",
       "      <td>b8c6</td>\n",
       "      <td>Nc6</td>\n",
       "      <td>2282</td>\n",
       "      <td>45</td>\n",
       "      <td>5</td>\n",
       "      <td>49</td>\n",
       "      <td>None</td>\n",
       "      <td>2103</td>\n",
       "      <td>49</td>\n",
       "      <td>1</td>\n",
       "      <td>-0.81</td>\n",
       "      <td>9</td>\n",
       "      <td>3</td>\n",
       "      <td>1</td>\n",
       "    </tr>\n",
       "  </tbody>\n",
       "</table>\n",
       "</div>"
      ],
      "text/plain": [
       "    uci  san  averageRating  white  draws  black  game  tot_games  \\\n",
       "0  b8c6  Nc6           2282     45      5     49  None       2103   \n",
       "\n",
       "   strongest_practical  perc  eval  freq_pos  eval_pos  dbscore_pos  \n",
       "0                   49     1 -0.81         9         3            1  "
      ]
     },
     "execution_count": 16,
     "metadata": {},
     "output_type": "execute_result"
    }
   ],
   "source": [
    "pd.DataFrame(candidates)"
   ]
  },
  {
   "cell_type": "code",
   "execution_count": null,
   "metadata": {},
   "outputs": [],
   "source": []
  },
  {
   "attachments": {},
   "cell_type": "markdown",
   "metadata": {},
   "source": [
    "# TODO: \n",
    "* se è il giocatore a muovere bisogna scegliere la mossa candidata con la logica: \n",
    "> 1. si ordinando le mosse inversamente allo score del db\n",
    "> 2. si guarda la prima mossa, la scelgo se è tra le prime 3 (configurabile) del motore + se la valutazione del motore non è peggiore di +/- 1 (se ho il bianco non voglio scegliere linee minori di -1. Viceversa per il nero)"
   ]
  },
  {
   "cell_type": "code",
   "execution_count": 17,
   "metadata": {},
   "outputs": [
    {
     "name": "stdout",
     "output_type": "stream",
     "text": [
      "🔴 🟠 🟡 🟢\n"
     ]
    }
   ],
   "source": [
    "print('\\U0001F534', '\\U0001F7E0', '\\U0001F7E1', '\\U0001F7E2')"
   ]
  },
  {
   "cell_type": "code",
   "execution_count": 18,
   "metadata": {},
   "outputs": [
    {
     "name": "stdout",
     "output_type": "stream",
     "text": [
      "Caricamento: 100%\n"
     ]
    }
   ],
   "source": [
    "from IPython.display import clear_output\n",
    "import time\n",
    "\n",
    "for i in range(1, 101):\n",
    "    time.sleep(0.1)\n",
    "    clear_output(wait=True)\n",
    "    print(f\"Caricamento: {i}%\")\n"
   ]
  },
  {
   "cell_type": "code",
   "execution_count": 33,
   "metadata": {},
   "outputs": [],
   "source": [
    "board = chess.Board()\n",
    "notation = board.variation_san([node.move.from_uci('g2g4')])\n"
   ]
  },
  {
   "cell_type": "code",
   "execution_count": 34,
   "metadata": {},
   "outputs": [
    {
     "name": "stdout",
     "output_type": "stream",
     "text": [
      "1.1. g4\n"
     ]
    }
   ],
   "source": [
    "print(f\"{board.fullmove_number}.{notation}\")\n"
   ]
  },
  {
   "cell_type": "code",
   "execution_count": 35,
   "metadata": {},
   "outputs": [
    {
     "ename": "AttributeError",
     "evalue": "'Move' object has no attribute 'san'",
     "output_type": "error",
     "traceback": [
      "\u001b[0;31m---------------------------------------------------------------------------\u001b[0m",
      "\u001b[0;31mAttributeError\u001b[0m                            Traceback (most recent call last)",
      "Cell \u001b[0;32mIn[35], line 1\u001b[0m\n\u001b[0;32m----> 1\u001b[0m node\u001b[39m.\u001b[39;49mmove\u001b[39m.\u001b[39;49msan()\n",
      "\u001b[0;31mAttributeError\u001b[0m: 'Move' object has no attribute 'san'"
     ]
    }
   ],
   "source": [
    "node.move.san()"
   ]
  },
  {
   "cell_type": "code",
   "execution_count": 36,
   "metadata": {},
   "outputs": [],
   "source": [
    "board = chess.Board()\n",
    "san_move = board.san(node.move)"
   ]
  },
  {
   "cell_type": "code",
   "execution_count": 37,
   "metadata": {},
   "outputs": [
    {
     "data": {
      "text/plain": [
       "'g4'"
      ]
     },
     "execution_count": 37,
     "metadata": {},
     "output_type": "execute_result"
    }
   ],
   "source": [
    "san_move"
   ]
  },
  {
   "cell_type": "code",
   "execution_count": 41,
   "metadata": {},
   "outputs": [],
   "source": [
    "b = node.board()"
   ]
  },
  {
   "cell_type": "code",
   "execution_count": 42,
   "metadata": {},
   "outputs": [
    {
     "data": {
      "text/plain": [
       "1"
      ]
     },
     "execution_count": 42,
     "metadata": {},
     "output_type": "execute_result"
    }
   ],
   "source": [
    "b.fullmove_number"
   ]
  },
  {
   "cell_type": "code",
   "execution_count": 43,
   "metadata": {},
   "outputs": [
    {
     "data": {
      "text/plain": [
       "Move.from_uci('g2g4')"
      ]
     },
     "execution_count": 43,
     "metadata": {},
     "output_type": "execute_result"
    }
   ],
   "source": [
    "b.peek()"
   ]
  },
  {
   "cell_type": "code",
   "execution_count": 44,
   "metadata": {},
   "outputs": [],
   "source": [
    "turn = b.turn"
   ]
  },
  {
   "cell_type": "code",
   "execution_count": 45,
   "metadata": {},
   "outputs": [
    {
     "data": {
      "text/plain": [
       "False"
      ]
     },
     "execution_count": 45,
     "metadata": {},
     "output_type": "execute_result"
    }
   ],
   "source": [
    "turn"
   ]
  },
  {
   "cell_type": "code",
   "execution_count": null,
   "metadata": {},
   "outputs": [],
   "source": []
  }
 ],
 "metadata": {
  "kernelspec": {
   "display_name": "base",
   "language": "python",
   "name": "python3"
  },
  "language_info": {
   "codemirror_mode": {
    "name": "ipython",
    "version": 3
   },
   "file_extension": ".py",
   "mimetype": "text/x-python",
   "name": "python",
   "nbconvert_exporter": "python",
   "pygments_lexer": "ipython3",
   "version": "3.10.9"
  },
  "orig_nbformat": 4
 },
 "nbformat": 4,
 "nbformat_minor": 2
}
