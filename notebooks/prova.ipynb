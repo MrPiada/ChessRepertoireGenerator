{
 "cells": [
  {
   "cell_type": "code",
   "execution_count": 6,
   "metadata": {},
   "outputs": [
    {
     "name": "stdout",
     "output_type": "stream",
     "text": [
      "\n",
      "\n",
      " +0.046 +9 +1.7 +80 \n",
      "\n",
      "\n",
      "  ∧                                               \n",
      "  │+80                                         ○  \n",
      "  ┼                                               \n",
      "  │                                               \n",
      "  │                                               \n",
      "  │                                       ○       \n",
      "  │                                               \n",
      "  │                                               \n",
      "  │                                  ○            \n",
      "  │                                               \n",
      "  │                                               \n",
      "  │                             ○                 \n",
      "  │                                               \n",
      "  │                        ○                      \n",
      "  │                                               \n",
      "  │                   ○                           \n",
      "  │              ○                                \n",
      "  │+1.7     ○                                     \n",
      "──┼────○───────────────────────────────────────┼─>\n",
      "  ┼+0.046                                    +9   \n",
      "\n",
      "\n",
      " +0.046 +9 -49 +29 \n",
      "\n",
      "\n",
      "  ∧                                               \n",
      "  │+29                                            \n",
      "  ┼    ◽    ◽                                     \n",
      "  │              ◽                                \n",
      "  │                                               \n",
      "  │                   ◽                           \n",
      "  │                        ◽                      \n",
      "──│────────────────────────────────────────────┼─>\n",
      "  ┼+0.046                                    +9   \n",
      "  │                             ◽                 \n",
      "  │                                               \n",
      "  │                                  ◽            \n",
      "  │                                               \n",
      "  │                                               \n",
      "  │                                       ◽       \n",
      "  │                                               \n",
      "  │                                               \n",
      "  │-49                                            \n",
      "  ┼                                            ◽  \n",
      "  │                                               \n",
      "None\n"
     ]
    }
   ],
   "source": [
    "import sys\n",
    "import numpy as np\n",
    "sys.path.append('../src/')\n",
    "\n",
    "from ap3 import *\n",
    "\n",
    "x = np.arange(10)\n",
    "y = x ** 2\n",
    "_ = plot(x, y, marker='_o')\n",
    "print(plot(x, 30. - y, marker='_s', xticks_to_int=False, yticks_to_int=False))"
   ]
  },
  {
   "cell_type": "code",
   "execution_count": null,
   "metadata": {},
   "outputs": [],
   "source": []
  },
  {
   "cell_type": "code",
   "execution_count": null,
   "metadata": {},
   "outputs": [],
   "source": []
  },
  {
   "cell_type": "code",
   "execution_count": 1,
   "metadata": {},
   "outputs": [],
   "source": [
    "import sys\n",
    "sys.path.append('../src/')\n",
    "\n",
    "from docopt import docopt\n",
    "from config import Config\n",
    "from builder import RepertoireBuilder\n",
    "\n",
    "doc = \"\"\"Usage:\n",
    "    main.py <config_file>\n",
    "\n",
    "Arguments:\n",
    "    <config_file>   Path to YAML configuration file\n",
    "\"\"\"\n",
    "\n",
    "\n",
    "def main():\n",
    "    config = Config(\"example.yaml\")\n",
    "\n",
    "    builder = RepertoireBuilder(config)\n",
    "    return builder.GenerateReportoire()\n"
   ]
  },
  {
   "cell_type": "code",
   "execution_count": 2,
   "metadata": {},
   "outputs": [
    {
     "name": "stdout",
     "output_type": "stream",
     "text": [
      "\n",
      "\t\tSTART\n",
      "\n",
      "\n",
      "( 0m0s )  -------  1   b1a3   Starting move \n",
      " r n b q k b n r\n",
      "p p p p p p p p\n",
      ". . . . . . . .\n",
      ". . . . . . . .\n",
      ". . . . . . . .\n",
      "N . . . . . . .\n",
      "P P P P P P P P\n",
      "R . B Q K B N R\n",
      "#CandidateMoves:  4\n",
      "\n",
      "( 0m6s )  -------  2   e7e5   34% (20426) -- -0.59 -- 53/3/42 \n",
      " r n b q k b n r\n",
      "p p p p . p p p\n",
      ". . . . . . . .\n",
      ". . . . p . . .\n",
      ". . . . . . . .\n",
      "N . . . . . . .\n",
      "P P P P P P P P\n",
      "R . B Q K B N R\n",
      "#CandidateMoves:  1\n",
      "\n",
      "( 0m10s )  -------  3   e2e3   23% (4743) -- -0.9 -- 69/2/28 \n",
      " r n b q k b n r\n",
      "p p p p . p p p\n",
      ". . . . . . . .\n",
      ". . . . p . . .\n",
      ". . . . . . . .\n",
      "N . . . P . . .\n",
      "P P P P . P P P\n",
      "R . B Q K B N R\n"
     ]
    },
    {
     "ename": "KeyboardInterrupt",
     "evalue": "",
     "output_type": "error",
     "traceback": [
      "\u001b[0;31m---------------------------------------------------------------------------\u001b[0m",
      "\u001b[0;31mKeyboardInterrupt\u001b[0m                         Traceback (most recent call last)",
      "Cell \u001b[0;32mIn[2], line 1\u001b[0m\n\u001b[0;32m----> 1\u001b[0m df \u001b[39m=\u001b[39m main()\n",
      "Cell \u001b[0;32mIn[1], line 22\u001b[0m, in \u001b[0;36mmain\u001b[0;34m()\u001b[0m\n\u001b[1;32m     19\u001b[0m config \u001b[39m=\u001b[39m Config(\u001b[39m\"\u001b[39m\u001b[39mexample.yaml\u001b[39m\u001b[39m\"\u001b[39m)\n\u001b[1;32m     21\u001b[0m builder \u001b[39m=\u001b[39m RepertoireBuilder(config)\n\u001b[0;32m---> 22\u001b[0m \u001b[39mreturn\u001b[39;00m builder\u001b[39m.\u001b[39;49mGenerateReportoire()\n",
      "File \u001b[0;32m~/WORKDIR/ChessRepertoireGenerator/notebooks/../src/builder.py:64\u001b[0m, in \u001b[0;36mRepertoireBuilder.GenerateReportoire\u001b[0;34m(self)\u001b[0m\n\u001b[1;32m     60\u001b[0m game\u001b[39m.\u001b[39mheaders[\u001b[39m\"\u001b[39m\u001b[39mEvent\u001b[39m\u001b[39m\"\u001b[39m] \u001b[39m=\u001b[39m \u001b[39mself\u001b[39m\u001b[39m.\u001b[39mconfig\u001b[39m.\u001b[39mEvent\n\u001b[1;32m     62\u001b[0m \u001b[39m# TODO: va poi deciso come iniziare un repertorio per il nero\u001b[39;00m\n\u001b[1;32m     63\u001b[0m \u001b[39m#       --> gli si fa creare un repertorio partendo dalle varie mosse del bianco ???\u001b[39;00m\n\u001b[0;32m---> 64\u001b[0m \u001b[39mself\u001b[39;49m\u001b[39m.\u001b[39;49m__make_move(\u001b[39mself\u001b[39;49m\u001b[39m.\u001b[39;49mconfig\u001b[39m.\u001b[39;49mStartingMove, game, \u001b[39m\"\u001b[39;49m\u001b[39mStarting move\u001b[39;49m\u001b[39m\"\u001b[39;49m)\n\u001b[1;32m     66\u001b[0m \u001b[39m# Salvataggio della partita in formato PGN\u001b[39;00m\n\u001b[1;32m     67\u001b[0m \u001b[39mwith\u001b[39;00m \u001b[39mopen\u001b[39m(\u001b[39mself\u001b[39m\u001b[39m.\u001b[39mconfig\u001b[39m.\u001b[39mPgnName, \u001b[39m\"\u001b[39m\u001b[39mw\u001b[39m\u001b[39m\"\u001b[39m) \u001b[39mas\u001b[39;00m f:\n",
      "File \u001b[0;32m~/WORKDIR/ChessRepertoireGenerator/notebooks/../src/builder.py:132\u001b[0m, in \u001b[0;36mRepertoireBuilder.__make_move\u001b[0;34m(self, move, node, move_comment)\u001b[0m\n\u001b[1;32m    118\u001b[0m \u001b[39mfor\u001b[39;00m move \u001b[39min\u001b[39;00m candidate_moves:\n\u001b[1;32m    120\u001b[0m     \u001b[39mself\u001b[39m\u001b[39m.\u001b[39mstats\u001b[39m.\u001b[39mloc[\u001b[39mlen\u001b[39m(\u001b[39mself\u001b[39m\u001b[39m.\u001b[39mstats)] \u001b[39m=\u001b[39m [\n\u001b[1;32m    121\u001b[0m         child_node\u001b[39m.\u001b[39mply() \u001b[39m+\u001b[39m \u001b[39m1\u001b[39m,\n\u001b[1;32m    122\u001b[0m         move[\u001b[39m'\u001b[39m\u001b[39msan\u001b[39m\u001b[39m'\u001b[39m],\n\u001b[0;32m   (...)\u001b[0m\n\u001b[1;32m    129\u001b[0m         move[\u001b[39m'\u001b[39m\u001b[39meval\u001b[39m\u001b[39m'\u001b[39m]\n\u001b[1;32m    130\u001b[0m     ]\n\u001b[0;32m--> 132\u001b[0m     \u001b[39mself\u001b[39;49m\u001b[39m.\u001b[39;49m__make_move(\n\u001b[1;32m    133\u001b[0m         move[\u001b[39m'\u001b[39;49m\u001b[39muci\u001b[39;49m\u001b[39m'\u001b[39;49m],\n\u001b[1;32m    134\u001b[0m         child_node,\n\u001b[1;32m    135\u001b[0m         move[\u001b[39m'\u001b[39;49m\u001b[39mcomment\u001b[39;49m\u001b[39m'\u001b[39;49m])\n",
      "File \u001b[0;32m~/WORKDIR/ChessRepertoireGenerator/notebooks/../src/builder.py:132\u001b[0m, in \u001b[0;36mRepertoireBuilder.__make_move\u001b[0;34m(self, move, node, move_comment)\u001b[0m\n\u001b[1;32m    118\u001b[0m \u001b[39mfor\u001b[39;00m move \u001b[39min\u001b[39;00m candidate_moves:\n\u001b[1;32m    120\u001b[0m     \u001b[39mself\u001b[39m\u001b[39m.\u001b[39mstats\u001b[39m.\u001b[39mloc[\u001b[39mlen\u001b[39m(\u001b[39mself\u001b[39m\u001b[39m.\u001b[39mstats)] \u001b[39m=\u001b[39m [\n\u001b[1;32m    121\u001b[0m         child_node\u001b[39m.\u001b[39mply() \u001b[39m+\u001b[39m \u001b[39m1\u001b[39m,\n\u001b[1;32m    122\u001b[0m         move[\u001b[39m'\u001b[39m\u001b[39msan\u001b[39m\u001b[39m'\u001b[39m],\n\u001b[0;32m   (...)\u001b[0m\n\u001b[1;32m    129\u001b[0m         move[\u001b[39m'\u001b[39m\u001b[39meval\u001b[39m\u001b[39m'\u001b[39m]\n\u001b[1;32m    130\u001b[0m     ]\n\u001b[0;32m--> 132\u001b[0m     \u001b[39mself\u001b[39;49m\u001b[39m.\u001b[39;49m__make_move(\n\u001b[1;32m    133\u001b[0m         move[\u001b[39m'\u001b[39;49m\u001b[39muci\u001b[39;49m\u001b[39m'\u001b[39;49m],\n\u001b[1;32m    134\u001b[0m         child_node,\n\u001b[1;32m    135\u001b[0m         move[\u001b[39m'\u001b[39;49m\u001b[39mcomment\u001b[39;49m\u001b[39m'\u001b[39;49m])\n",
      "File \u001b[0;32m~/WORKDIR/ChessRepertoireGenerator/notebooks/../src/builder.py:97\u001b[0m, in \u001b[0;36mRepertoireBuilder.__make_move\u001b[0;34m(self, move, node, move_comment)\u001b[0m\n\u001b[1;32m     82\u001b[0m \u001b[39mprint\u001b[39m(\n\u001b[1;32m     83\u001b[0m     \u001b[39m\"\u001b[39m\u001b[39m\\n\u001b[39;00m\u001b[39m(\u001b[39m\u001b[39m\"\u001b[39m,\n\u001b[1;32m     84\u001b[0m     strTime,\n\u001b[0;32m   (...)\u001b[0m\n\u001b[1;32m     93\u001b[0m     child_node\u001b[39m.\u001b[39mboard()\n\u001b[1;32m     94\u001b[0m )\n\u001b[1;32m     96\u001b[0m child_node\u001b[39m.\u001b[39mcomment \u001b[39m=\u001b[39m move_comment\n\u001b[0;32m---> 97\u001b[0m \u001b[39meval\u001b[39m \u001b[39m=\u001b[39m \u001b[39mself\u001b[39;49m\u001b[39m.\u001b[39;49m__get_cloud_eval(child_node\u001b[39m.\u001b[39;49mboard()\u001b[39m.\u001b[39;49mfen())\n\u001b[1;32m     99\u001b[0m \u001b[39mif\u001b[39;00m (\u001b[39meval\u001b[39m \u001b[39m!=\u001b[39m \u001b[39m-\u001b[39m\u001b[39m9999\u001b[39m):\n\u001b[1;32m    100\u001b[0m     child_node\u001b[39m.\u001b[39mset_eval(chess\u001b[39m.\u001b[39mengine\u001b[39m.\u001b[39mPovScore(Cp(\u001b[39meval\u001b[39m), chess\u001b[39m.\u001b[39mWHITE))\n",
      "File \u001b[0;32m~/WORKDIR/ChessRepertoireGenerator/notebooks/../src/builder.py:139\u001b[0m, in \u001b[0;36mRepertoireBuilder.__get_cloud_eval\u001b[0;34m(self, fen)\u001b[0m\n\u001b[1;32m    137\u001b[0m \u001b[39mdef\u001b[39;00m \u001b[39m__get_cloud_eval\u001b[39m(\u001b[39mself\u001b[39m, fen):\n\u001b[1;32m    138\u001b[0m     \u001b[39mself\u001b[39m\u001b[39m.\u001b[39mApiCloudEvalParams[\u001b[39m'\u001b[39m\u001b[39mfen\u001b[39m\u001b[39m'\u001b[39m] \u001b[39m=\u001b[39m fen\n\u001b[0;32m--> 139\u001b[0m     response \u001b[39m=\u001b[39m requests\u001b[39m.\u001b[39;49mget(\n\u001b[1;32m    140\u001b[0m         \u001b[39mself\u001b[39;49m\u001b[39m.\u001b[39;49mApiCloudEvalUrl,\n\u001b[1;32m    141\u001b[0m         params\u001b[39m=\u001b[39;49m\u001b[39mself\u001b[39;49m\u001b[39m.\u001b[39;49mApiCloudEvalParams)\n\u001b[1;32m    142\u001b[0m     tree \u001b[39m=\u001b[39m json\u001b[39m.\u001b[39mloads(response\u001b[39m.\u001b[39mcontent\u001b[39m.\u001b[39mdecode())\n\u001b[1;32m    143\u001b[0m     \u001b[39m# Se esiste la valutazione in cloud della mossa\u001b[39;00m\n",
      "File \u001b[0;32m~/miniconda3/lib/python3.10/site-packages/requests/api.py:73\u001b[0m, in \u001b[0;36mget\u001b[0;34m(url, params, **kwargs)\u001b[0m\n\u001b[1;32m     62\u001b[0m \u001b[39mdef\u001b[39;00m \u001b[39mget\u001b[39m(url, params\u001b[39m=\u001b[39m\u001b[39mNone\u001b[39;00m, \u001b[39m*\u001b[39m\u001b[39m*\u001b[39mkwargs):\n\u001b[1;32m     63\u001b[0m \u001b[39m    \u001b[39m\u001b[39mr\u001b[39m\u001b[39m\"\"\"Sends a GET request.\u001b[39;00m\n\u001b[1;32m     64\u001b[0m \n\u001b[1;32m     65\u001b[0m \u001b[39m    :param url: URL for the new :class:`Request` object.\u001b[39;00m\n\u001b[0;32m   (...)\u001b[0m\n\u001b[1;32m     70\u001b[0m \u001b[39m    :rtype: requests.Response\u001b[39;00m\n\u001b[1;32m     71\u001b[0m \u001b[39m    \"\"\"\u001b[39;00m\n\u001b[0;32m---> 73\u001b[0m     \u001b[39mreturn\u001b[39;00m request(\u001b[39m\"\u001b[39;49m\u001b[39mget\u001b[39;49m\u001b[39m\"\u001b[39;49m, url, params\u001b[39m=\u001b[39;49mparams, \u001b[39m*\u001b[39;49m\u001b[39m*\u001b[39;49mkwargs)\n",
      "File \u001b[0;32m~/miniconda3/lib/python3.10/site-packages/requests/api.py:59\u001b[0m, in \u001b[0;36mrequest\u001b[0;34m(method, url, **kwargs)\u001b[0m\n\u001b[1;32m     55\u001b[0m \u001b[39m# By using the 'with' statement we are sure the session is closed, thus we\u001b[39;00m\n\u001b[1;32m     56\u001b[0m \u001b[39m# avoid leaving sockets open which can trigger a ResourceWarning in some\u001b[39;00m\n\u001b[1;32m     57\u001b[0m \u001b[39m# cases, and look like a memory leak in others.\u001b[39;00m\n\u001b[1;32m     58\u001b[0m \u001b[39mwith\u001b[39;00m sessions\u001b[39m.\u001b[39mSession() \u001b[39mas\u001b[39;00m session:\n\u001b[0;32m---> 59\u001b[0m     \u001b[39mreturn\u001b[39;00m session\u001b[39m.\u001b[39;49mrequest(method\u001b[39m=\u001b[39;49mmethod, url\u001b[39m=\u001b[39;49murl, \u001b[39m*\u001b[39;49m\u001b[39m*\u001b[39;49mkwargs)\n",
      "File \u001b[0;32m~/miniconda3/lib/python3.10/site-packages/requests/sessions.py:587\u001b[0m, in \u001b[0;36mSession.request\u001b[0;34m(self, method, url, params, data, headers, cookies, files, auth, timeout, allow_redirects, proxies, hooks, stream, verify, cert, json)\u001b[0m\n\u001b[1;32m    582\u001b[0m send_kwargs \u001b[39m=\u001b[39m {\n\u001b[1;32m    583\u001b[0m     \u001b[39m\"\u001b[39m\u001b[39mtimeout\u001b[39m\u001b[39m\"\u001b[39m: timeout,\n\u001b[1;32m    584\u001b[0m     \u001b[39m\"\u001b[39m\u001b[39mallow_redirects\u001b[39m\u001b[39m\"\u001b[39m: allow_redirects,\n\u001b[1;32m    585\u001b[0m }\n\u001b[1;32m    586\u001b[0m send_kwargs\u001b[39m.\u001b[39mupdate(settings)\n\u001b[0;32m--> 587\u001b[0m resp \u001b[39m=\u001b[39m \u001b[39mself\u001b[39;49m\u001b[39m.\u001b[39;49msend(prep, \u001b[39m*\u001b[39;49m\u001b[39m*\u001b[39;49msend_kwargs)\n\u001b[1;32m    589\u001b[0m \u001b[39mreturn\u001b[39;00m resp\n",
      "File \u001b[0;32m~/miniconda3/lib/python3.10/site-packages/requests/sessions.py:701\u001b[0m, in \u001b[0;36mSession.send\u001b[0;34m(self, request, **kwargs)\u001b[0m\n\u001b[1;32m    698\u001b[0m start \u001b[39m=\u001b[39m preferred_clock()\n\u001b[1;32m    700\u001b[0m \u001b[39m# Send the request\u001b[39;00m\n\u001b[0;32m--> 701\u001b[0m r \u001b[39m=\u001b[39m adapter\u001b[39m.\u001b[39;49msend(request, \u001b[39m*\u001b[39;49m\u001b[39m*\u001b[39;49mkwargs)\n\u001b[1;32m    703\u001b[0m \u001b[39m# Total elapsed time of the request (approximately)\u001b[39;00m\n\u001b[1;32m    704\u001b[0m elapsed \u001b[39m=\u001b[39m preferred_clock() \u001b[39m-\u001b[39m start\n",
      "File \u001b[0;32m~/miniconda3/lib/python3.10/site-packages/requests/adapters.py:489\u001b[0m, in \u001b[0;36mHTTPAdapter.send\u001b[0;34m(self, request, stream, timeout, verify, cert, proxies)\u001b[0m\n\u001b[1;32m    487\u001b[0m \u001b[39mtry\u001b[39;00m:\n\u001b[1;32m    488\u001b[0m     \u001b[39mif\u001b[39;00m \u001b[39mnot\u001b[39;00m chunked:\n\u001b[0;32m--> 489\u001b[0m         resp \u001b[39m=\u001b[39m conn\u001b[39m.\u001b[39;49murlopen(\n\u001b[1;32m    490\u001b[0m             method\u001b[39m=\u001b[39;49mrequest\u001b[39m.\u001b[39;49mmethod,\n\u001b[1;32m    491\u001b[0m             url\u001b[39m=\u001b[39;49murl,\n\u001b[1;32m    492\u001b[0m             body\u001b[39m=\u001b[39;49mrequest\u001b[39m.\u001b[39;49mbody,\n\u001b[1;32m    493\u001b[0m             headers\u001b[39m=\u001b[39;49mrequest\u001b[39m.\u001b[39;49mheaders,\n\u001b[1;32m    494\u001b[0m             redirect\u001b[39m=\u001b[39;49m\u001b[39mFalse\u001b[39;49;00m,\n\u001b[1;32m    495\u001b[0m             assert_same_host\u001b[39m=\u001b[39;49m\u001b[39mFalse\u001b[39;49;00m,\n\u001b[1;32m    496\u001b[0m             preload_content\u001b[39m=\u001b[39;49m\u001b[39mFalse\u001b[39;49;00m,\n\u001b[1;32m    497\u001b[0m             decode_content\u001b[39m=\u001b[39;49m\u001b[39mFalse\u001b[39;49;00m,\n\u001b[1;32m    498\u001b[0m             retries\u001b[39m=\u001b[39;49m\u001b[39mself\u001b[39;49m\u001b[39m.\u001b[39;49mmax_retries,\n\u001b[1;32m    499\u001b[0m             timeout\u001b[39m=\u001b[39;49mtimeout,\n\u001b[1;32m    500\u001b[0m         )\n\u001b[1;32m    502\u001b[0m     \u001b[39m# Send the request.\u001b[39;00m\n\u001b[1;32m    503\u001b[0m     \u001b[39melse\u001b[39;00m:\n\u001b[1;32m    504\u001b[0m         \u001b[39mif\u001b[39;00m \u001b[39mhasattr\u001b[39m(conn, \u001b[39m\"\u001b[39m\u001b[39mproxy_pool\u001b[39m\u001b[39m\"\u001b[39m):\n",
      "File \u001b[0;32m~/miniconda3/lib/python3.10/site-packages/urllib3/connectionpool.py:703\u001b[0m, in \u001b[0;36mHTTPConnectionPool.urlopen\u001b[0;34m(self, method, url, body, headers, retries, redirect, assert_same_host, timeout, pool_timeout, release_conn, chunked, body_pos, **response_kw)\u001b[0m\n\u001b[1;32m    700\u001b[0m     \u001b[39mself\u001b[39m\u001b[39m.\u001b[39m_prepare_proxy(conn)\n\u001b[1;32m    702\u001b[0m \u001b[39m# Make the request on the httplib connection object.\u001b[39;00m\n\u001b[0;32m--> 703\u001b[0m httplib_response \u001b[39m=\u001b[39m \u001b[39mself\u001b[39;49m\u001b[39m.\u001b[39;49m_make_request(\n\u001b[1;32m    704\u001b[0m     conn,\n\u001b[1;32m    705\u001b[0m     method,\n\u001b[1;32m    706\u001b[0m     url,\n\u001b[1;32m    707\u001b[0m     timeout\u001b[39m=\u001b[39;49mtimeout_obj,\n\u001b[1;32m    708\u001b[0m     body\u001b[39m=\u001b[39;49mbody,\n\u001b[1;32m    709\u001b[0m     headers\u001b[39m=\u001b[39;49mheaders,\n\u001b[1;32m    710\u001b[0m     chunked\u001b[39m=\u001b[39;49mchunked,\n\u001b[1;32m    711\u001b[0m )\n\u001b[1;32m    713\u001b[0m \u001b[39m# If we're going to release the connection in ``finally:``, then\u001b[39;00m\n\u001b[1;32m    714\u001b[0m \u001b[39m# the response doesn't need to know about the connection. Otherwise\u001b[39;00m\n\u001b[1;32m    715\u001b[0m \u001b[39m# it will also try to release it and we'll have a double-release\u001b[39;00m\n\u001b[1;32m    716\u001b[0m \u001b[39m# mess.\u001b[39;00m\n\u001b[1;32m    717\u001b[0m response_conn \u001b[39m=\u001b[39m conn \u001b[39mif\u001b[39;00m \u001b[39mnot\u001b[39;00m release_conn \u001b[39melse\u001b[39;00m \u001b[39mNone\u001b[39;00m\n",
      "File \u001b[0;32m~/miniconda3/lib/python3.10/site-packages/urllib3/connectionpool.py:386\u001b[0m, in \u001b[0;36mHTTPConnectionPool._make_request\u001b[0;34m(self, conn, method, url, timeout, chunked, **httplib_request_kw)\u001b[0m\n\u001b[1;32m    384\u001b[0m \u001b[39m# Trigger any extra validation we need to do.\u001b[39;00m\n\u001b[1;32m    385\u001b[0m \u001b[39mtry\u001b[39;00m:\n\u001b[0;32m--> 386\u001b[0m     \u001b[39mself\u001b[39;49m\u001b[39m.\u001b[39;49m_validate_conn(conn)\n\u001b[1;32m    387\u001b[0m \u001b[39mexcept\u001b[39;00m (SocketTimeout, BaseSSLError) \u001b[39mas\u001b[39;00m e:\n\u001b[1;32m    388\u001b[0m     \u001b[39m# Py2 raises this as a BaseSSLError, Py3 raises it as socket timeout.\u001b[39;00m\n\u001b[1;32m    389\u001b[0m     \u001b[39mself\u001b[39m\u001b[39m.\u001b[39m_raise_timeout(err\u001b[39m=\u001b[39me, url\u001b[39m=\u001b[39murl, timeout_value\u001b[39m=\u001b[39mconn\u001b[39m.\u001b[39mtimeout)\n",
      "File \u001b[0;32m~/miniconda3/lib/python3.10/site-packages/urllib3/connectionpool.py:1042\u001b[0m, in \u001b[0;36mHTTPSConnectionPool._validate_conn\u001b[0;34m(self, conn)\u001b[0m\n\u001b[1;32m   1040\u001b[0m \u001b[39m# Force connect early to allow us to validate the connection.\u001b[39;00m\n\u001b[1;32m   1041\u001b[0m \u001b[39mif\u001b[39;00m \u001b[39mnot\u001b[39;00m \u001b[39mgetattr\u001b[39m(conn, \u001b[39m\"\u001b[39m\u001b[39msock\u001b[39m\u001b[39m\"\u001b[39m, \u001b[39mNone\u001b[39;00m):  \u001b[39m# AppEngine might not have  `.sock`\u001b[39;00m\n\u001b[0;32m-> 1042\u001b[0m     conn\u001b[39m.\u001b[39;49mconnect()\n\u001b[1;32m   1044\u001b[0m \u001b[39mif\u001b[39;00m \u001b[39mnot\u001b[39;00m conn\u001b[39m.\u001b[39mis_verified:\n\u001b[1;32m   1045\u001b[0m     warnings\u001b[39m.\u001b[39mwarn(\n\u001b[1;32m   1046\u001b[0m         (\n\u001b[1;32m   1047\u001b[0m             \u001b[39m\"\u001b[39m\u001b[39mUnverified HTTPS request is being made to host \u001b[39m\u001b[39m'\u001b[39m\u001b[39m%s\u001b[39;00m\u001b[39m'\u001b[39m\u001b[39m. \u001b[39m\u001b[39m\"\u001b[39m\n\u001b[0;32m   (...)\u001b[0m\n\u001b[1;32m   1052\u001b[0m         InsecureRequestWarning,\n\u001b[1;32m   1053\u001b[0m     )\n",
      "File \u001b[0;32m~/miniconda3/lib/python3.10/site-packages/urllib3/connection.py:358\u001b[0m, in \u001b[0;36mHTTPSConnection.connect\u001b[0;34m(self)\u001b[0m\n\u001b[1;32m    356\u001b[0m \u001b[39mdef\u001b[39;00m \u001b[39mconnect\u001b[39m(\u001b[39mself\u001b[39m):\n\u001b[1;32m    357\u001b[0m     \u001b[39m# Add certificate verification\u001b[39;00m\n\u001b[0;32m--> 358\u001b[0m     \u001b[39mself\u001b[39m\u001b[39m.\u001b[39msock \u001b[39m=\u001b[39m conn \u001b[39m=\u001b[39m \u001b[39mself\u001b[39;49m\u001b[39m.\u001b[39;49m_new_conn()\n\u001b[1;32m    359\u001b[0m     hostname \u001b[39m=\u001b[39m \u001b[39mself\u001b[39m\u001b[39m.\u001b[39mhost\n\u001b[1;32m    360\u001b[0m     tls_in_tls \u001b[39m=\u001b[39m \u001b[39mFalse\u001b[39;00m\n",
      "File \u001b[0;32m~/miniconda3/lib/python3.10/site-packages/urllib3/connection.py:174\u001b[0m, in \u001b[0;36mHTTPConnection._new_conn\u001b[0;34m(self)\u001b[0m\n\u001b[1;32m    171\u001b[0m     extra_kw[\u001b[39m\"\u001b[39m\u001b[39msocket_options\u001b[39m\u001b[39m\"\u001b[39m] \u001b[39m=\u001b[39m \u001b[39mself\u001b[39m\u001b[39m.\u001b[39msocket_options\n\u001b[1;32m    173\u001b[0m \u001b[39mtry\u001b[39;00m:\n\u001b[0;32m--> 174\u001b[0m     conn \u001b[39m=\u001b[39m connection\u001b[39m.\u001b[39;49mcreate_connection(\n\u001b[1;32m    175\u001b[0m         (\u001b[39mself\u001b[39;49m\u001b[39m.\u001b[39;49m_dns_host, \u001b[39mself\u001b[39;49m\u001b[39m.\u001b[39;49mport), \u001b[39mself\u001b[39;49m\u001b[39m.\u001b[39;49mtimeout, \u001b[39m*\u001b[39;49m\u001b[39m*\u001b[39;49mextra_kw\n\u001b[1;32m    176\u001b[0m     )\n\u001b[1;32m    178\u001b[0m \u001b[39mexcept\u001b[39;00m SocketTimeout:\n\u001b[1;32m    179\u001b[0m     \u001b[39mraise\u001b[39;00m ConnectTimeoutError(\n\u001b[1;32m    180\u001b[0m         \u001b[39mself\u001b[39m,\n\u001b[1;32m    181\u001b[0m         \u001b[39m\"\u001b[39m\u001b[39mConnection to \u001b[39m\u001b[39m%s\u001b[39;00m\u001b[39m timed out. (connect timeout=\u001b[39m\u001b[39m%s\u001b[39;00m\u001b[39m)\u001b[39m\u001b[39m\"\u001b[39m\n\u001b[1;32m    182\u001b[0m         \u001b[39m%\u001b[39m (\u001b[39mself\u001b[39m\u001b[39m.\u001b[39mhost, \u001b[39mself\u001b[39m\u001b[39m.\u001b[39mtimeout),\n\u001b[1;32m    183\u001b[0m     )\n",
      "File \u001b[0;32m~/miniconda3/lib/python3.10/site-packages/urllib3/util/connection.py:85\u001b[0m, in \u001b[0;36mcreate_connection\u001b[0;34m(address, timeout, source_address, socket_options)\u001b[0m\n\u001b[1;32m     83\u001b[0m     \u001b[39mif\u001b[39;00m source_address:\n\u001b[1;32m     84\u001b[0m         sock\u001b[39m.\u001b[39mbind(source_address)\n\u001b[0;32m---> 85\u001b[0m     sock\u001b[39m.\u001b[39;49mconnect(sa)\n\u001b[1;32m     86\u001b[0m     \u001b[39mreturn\u001b[39;00m sock\n\u001b[1;32m     88\u001b[0m \u001b[39mexcept\u001b[39;00m socket\u001b[39m.\u001b[39merror \u001b[39mas\u001b[39;00m e:\n",
      "\u001b[0;31mKeyboardInterrupt\u001b[0m: "
     ]
    }
   ],
   "source": [
    "df = main()"
   ]
  },
  {
   "cell_type": "code",
   "execution_count": null,
   "metadata": {},
   "outputs": [],
   "source": [
    "import matplotlib.pyplot as plt\n",
    "import numpy as np\n",
    "import pandas as pd"
   ]
  },
  {
   "cell_type": "code",
   "execution_count": 4,
   "metadata": {},
   "outputs": [
    {
     "data": {
      "text/html": [
       "<div>\n",
       "<style scoped>\n",
       "    .dataframe tbody tr th:only-of-type {\n",
       "        vertical-align: middle;\n",
       "    }\n",
       "\n",
       "    .dataframe tbody tr th {\n",
       "        vertical-align: top;\n",
       "    }\n",
       "\n",
       "    .dataframe thead th {\n",
       "        text-align: right;\n",
       "    }\n",
       "</style>\n",
       "<table border=\"1\" class=\"dataframe\">\n",
       "  <thead>\n",
       "    <tr style=\"text-align: right;\">\n",
       "      <th></th>\n",
       "      <th>ply</th>\n",
       "      <th>move</th>\n",
       "      <th>IsWhiteToMove</th>\n",
       "      <th>whitePerc</th>\n",
       "      <th>drawPerc</th>\n",
       "      <th>blackPerc</th>\n",
       "      <th>totGames</th>\n",
       "      <th>percGames</th>\n",
       "      <th>engineEval</th>\n",
       "    </tr>\n",
       "  </thead>\n",
       "  <tbody>\n",
       "    <tr>\n",
       "      <th>0</th>\n",
       "      <td>2</td>\n",
       "      <td>e5</td>\n",
       "      <td>False</td>\n",
       "      <td>53</td>\n",
       "      <td>3</td>\n",
       "      <td>42</td>\n",
       "      <td>20426</td>\n",
       "      <td>34</td>\n",
       "      <td>-0.59</td>\n",
       "    </tr>\n",
       "    <tr>\n",
       "      <th>1</th>\n",
       "      <td>3</td>\n",
       "      <td>e3</td>\n",
       "      <td>True</td>\n",
       "      <td>69</td>\n",
       "      <td>2</td>\n",
       "      <td>28</td>\n",
       "      <td>4743</td>\n",
       "      <td>23</td>\n",
       "      <td>-0.90</td>\n",
       "    </tr>\n",
       "    <tr>\n",
       "      <th>2</th>\n",
       "      <td>4</td>\n",
       "      <td>Bxa3</td>\n",
       "      <td>False</td>\n",
       "      <td>73</td>\n",
       "      <td>2</td>\n",
       "      <td>24</td>\n",
       "      <td>2166</td>\n",
       "      <td>42</td>\n",
       "      <td>-0.45</td>\n",
       "    </tr>\n",
       "    <tr>\n",
       "      <th>3</th>\n",
       "      <td>5</td>\n",
       "      <td>bxa3</td>\n",
       "      <td>True</td>\n",
       "      <td>73</td>\n",
       "      <td>2</td>\n",
       "      <td>24</td>\n",
       "      <td>2161</td>\n",
       "      <td>99</td>\n",
       "      <td>-0.13</td>\n",
       "    </tr>\n",
       "    <tr>\n",
       "      <th>4</th>\n",
       "      <td>6</td>\n",
       "      <td>Nf6</td>\n",
       "      <td>False</td>\n",
       "      <td>70</td>\n",
       "      <td>2</td>\n",
       "      <td>26</td>\n",
       "      <td>809</td>\n",
       "      <td>37</td>\n",
       "      <td>-0.30</td>\n",
       "    </tr>\n",
       "    <tr>\n",
       "      <th>...</th>\n",
       "      <td>...</td>\n",
       "      <td>...</td>\n",
       "      <td>...</td>\n",
       "      <td>...</td>\n",
       "      <td>...</td>\n",
       "      <td>...</td>\n",
       "      <td>...</td>\n",
       "      <td>...</td>\n",
       "      <td>...</td>\n",
       "    </tr>\n",
       "    <tr>\n",
       "      <th>64</th>\n",
       "      <td>4</td>\n",
       "      <td>Nf6</td>\n",
       "      <td>False</td>\n",
       "      <td>64</td>\n",
       "      <td>3</td>\n",
       "      <td>31</td>\n",
       "      <td>261</td>\n",
       "      <td>11</td>\n",
       "      <td>-0.09</td>\n",
       "    </tr>\n",
       "    <tr>\n",
       "      <th>65</th>\n",
       "      <td>5</td>\n",
       "      <td>d4</td>\n",
       "      <td>True</td>\n",
       "      <td>66</td>\n",
       "      <td>0</td>\n",
       "      <td>33</td>\n",
       "      <td>45</td>\n",
       "      <td>5</td>\n",
       "      <td>-0.48</td>\n",
       "    </tr>\n",
       "    <tr>\n",
       "      <th>66</th>\n",
       "      <td>6</td>\n",
       "      <td>d5</td>\n",
       "      <td>False</td>\n",
       "      <td>54</td>\n",
       "      <td>2</td>\n",
       "      <td>43</td>\n",
       "      <td>46</td>\n",
       "      <td>38</td>\n",
       "      <td>-0.36</td>\n",
       "    </tr>\n",
       "    <tr>\n",
       "      <th>67</th>\n",
       "      <td>6</td>\n",
       "      <td>Bxa3</td>\n",
       "      <td>False</td>\n",
       "      <td>45</td>\n",
       "      <td>2</td>\n",
       "      <td>51</td>\n",
       "      <td>35</td>\n",
       "      <td>29</td>\n",
       "      <td>-99.99</td>\n",
       "    </tr>\n",
       "    <tr>\n",
       "      <th>68</th>\n",
       "      <td>6</td>\n",
       "      <td>c5</td>\n",
       "      <td>False</td>\n",
       "      <td>60</td>\n",
       "      <td>6</td>\n",
       "      <td>33</td>\n",
       "      <td>15</td>\n",
       "      <td>12</td>\n",
       "      <td>-99.99</td>\n",
       "    </tr>\n",
       "  </tbody>\n",
       "</table>\n",
       "<p>69 rows × 9 columns</p>\n",
       "</div>"
      ],
      "text/plain": [
       "    ply  move  IsWhiteToMove  whitePerc  drawPerc  blackPerc  totGames  \\\n",
       "0     2    e5          False         53         3         42     20426   \n",
       "1     3    e3           True         69         2         28      4743   \n",
       "2     4  Bxa3          False         73         2         24      2166   \n",
       "3     5  bxa3           True         73         2         24      2161   \n",
       "4     6   Nf6          False         70         2         26       809   \n",
       "..  ...   ...            ...        ...       ...        ...       ...   \n",
       "64    4   Nf6          False         64         3         31       261   \n",
       "65    5    d4           True         66         0         33        45   \n",
       "66    6    d5          False         54         2         43        46   \n",
       "67    6  Bxa3          False         45         2         51        35   \n",
       "68    6    c5          False         60         6         33        15   \n",
       "\n",
       "    percGames  engineEval  \n",
       "0          34       -0.59  \n",
       "1          23       -0.90  \n",
       "2          42       -0.45  \n",
       "3          99       -0.13  \n",
       "4          37       -0.30  \n",
       "..        ...         ...  \n",
       "64         11       -0.09  \n",
       "65          5       -0.48  \n",
       "66         38       -0.36  \n",
       "67         29      -99.99  \n",
       "68         12      -99.99  \n",
       "\n",
       "[69 rows x 9 columns]"
      ]
     },
     "execution_count": 4,
     "metadata": {},
     "output_type": "execute_result"
    }
   ],
   "source": [
    "df"
   ]
  },
  {
   "cell_type": "code",
   "execution_count": 5,
   "metadata": {},
   "outputs": [],
   "source": [
    "w = df[df['IsWhiteToMove']]\n",
    "b = df[df['IsWhiteToMove'] == False]"
   ]
  },
  {
   "cell_type": "code",
   "execution_count": 6,
   "metadata": {},
   "outputs": [
    {
     "data": {
      "text/plain": [
       "([<matplotlib.axis.XTick at 0x145465c90>,\n",
       "  <matplotlib.axis.XTick at 0x145465c60>,\n",
       "  <matplotlib.axis.XTick at 0x145465b70>,\n",
       "  <matplotlib.axis.XTick at 0x1454bb250>,\n",
       "  <matplotlib.axis.XTick at 0x1454bbd00>,\n",
       "  <matplotlib.axis.XTick at 0x1454bbf10>],\n",
       " [Text(1, 0, '1'),\n",
       "  Text(2, 0, '2'),\n",
       "  Text(3, 0, '3'),\n",
       "  Text(4, 0, '4'),\n",
       "  Text(5, 0, '5'),\n",
       "  Text(6, 0, '6')])"
      ]
     },
     "execution_count": 6,
     "metadata": {},
     "output_type": "execute_result"
    },
    {
     "data": {
      "image/png": "[encoded data removed]",
      "text/plain": [
       "<Figure size 640x480 with 1 Axes>"
      ]
     },
     "metadata": {},
     "output_type": "display_data"
    }
   ],
   "source": [
    "# Aggiunta di una linea orizzontale al valore 0\n",
    "linea = plt.axhline(50, color='lightgray', linestyle='--')\n",
    "linea.set_zorder(-1)  # Imposta il valore di z-order per mettere la linea in secondo piano\n",
    "\n",
    "# plt.scatter(w['ply'], w['whitePerc'], marker='o', edgecolors='black', facecolors='white',s=np.log10(w['totGames'])*50)\n",
    "# plt.scatter(b['ply'], b['whitePerc'], marker='o', edgecolors='black', facecolors='black',s=np.log10(b['totGames'])*50)\n",
    "plt.scatter(w['ply'], w['whitePerc'], marker='o', edgecolors='black', facecolors='white',s=w['percGames']*5+1)\n",
    "plt.scatter(b['ply'], b['whitePerc'], marker='o', edgecolors='black', facecolors='black',s=b['percGames']*5+1)\n",
    "\n",
    "plt.ylim(0,100)\n",
    "plt.xlim(1,df['ply'].max()+1)\n",
    "plt.xticks(np.arange(1, df['ply'].max()+1, 1))"
   ]
  },
  {
   "cell_type": "code",
   "execution_count": 7,
   "metadata": {},
   "outputs": [
    {
     "data": {
      "image/png": "[encoded data removed]",
      "text/plain": [
       "<Figure size 640x480 with 1 Axes>"
      ]
     },
     "metadata": {},
     "output_type": "display_data"
    }
   ],
   "source": [
    "grouped = df.groupby('ply')['whitePerc'].agg(['mean', 'min', 'max', 'count', 'std'])\n",
    "\n",
    "linea = plt.axhline(50, color='lightgray', linestyle='--')\n",
    "\n",
    "plt.errorbar(grouped.index, grouped['mean'], yerr=grouped['std'], fmt='o', capsize=5, label='Mean')\n",
    "plt.scatter(grouped.index, grouped['min'], marker='_', color='r', label='Min')\n",
    "plt.scatter(grouped.index, grouped['max'], marker='_', color='r', label='Max')\n",
    "\n",
    "plt.xlabel('ply')\n",
    "plt.ylabel('whitePerc')\n",
    "\n",
    "plt.show()"
   ]
  },
  {
   "cell_type": "code",
   "execution_count": 8,
   "metadata": {},
   "outputs": [
    {
     "data": {
      "image/png": "[encoded data removed]",
      "text/plain": [
       "<Figure size 640x480 with 1 Axes>"
      ]
     },
     "metadata": {},
     "output_type": "display_data"
    }
   ],
   "source": [
    "grouped = df[df['engineEval'] > -10].groupby('ply')['engineEval'].agg(['mean', 'min', 'max', 'count', 'std'])\n",
    "\n",
    "linea = plt.axhline(0, color='lightgray', linestyle='--')\n",
    "\n",
    "plt.errorbar(grouped.index, grouped['mean'], yerr=grouped['std'], fmt='o', capsize=5, label='Mean')\n",
    "plt.scatter(grouped.index, grouped['min'], marker='_', color='r', label='Min')\n",
    "plt.scatter(grouped.index, grouped['max'], marker='_', color='r', label='Max')\n",
    "\n",
    "plt.xlabel('ply')\n",
    "plt.ylabel('engineEval')\n",
    "\n",
    "plt.show()"
   ]
  },
  {
   "cell_type": "code",
   "execution_count": 12,
   "metadata": {},
   "outputs": [
    {
     "ename": "TypeError",
     "evalue": "AFigure.add_axes_labels() takes from 1 to 4 positional arguments but 5 were given",
     "output_type": "error",
     "traceback": [
      "\u001b[0;31m---------------------------------------------------------------------------\u001b[0m",
      "\u001b[0;31mTypeError\u001b[0m                                 Traceback (most recent call last)",
      "Cell \u001b[0;32mIn[12], line 4\u001b[0m\n\u001b[1;32m      2\u001b[0m p \u001b[39m=\u001b[39m AFigure(shape\u001b[39m=\u001b[39m(\u001b[39m30\u001b[39m, \u001b[39m20\u001b[39m), xlabel\u001b[39m=\u001b[39m\u001b[39m\"\u001b[39m\u001b[39mPIPPO\u001b[39m\u001b[39m\"\u001b[39m)\n\u001b[1;32m      3\u001b[0m zero_line \u001b[39m=\u001b[39m np\u001b[39m.\u001b[39mfull(\u001b[39mlen\u001b[39m(grouped\u001b[39m.\u001b[39mindex), \u001b[39m0.0\u001b[39m)\n\u001b[0;32m----> 4\u001b[0m _ \u001b[39m=\u001b[39m p\u001b[39m.\u001b[39;49mplot(grouped\u001b[39m.\u001b[39;49mindex, zero_line, marker\u001b[39m=\u001b[39;49m\u001b[39m'\u001b[39;49m\u001b[39m-\u001b[39;49m\u001b[39m'\u001b[39;49m,plot_slope\u001b[39m=\u001b[39;49m\u001b[39mTrue\u001b[39;49;00m)\n\u001b[1;32m      5\u001b[0m \u001b[39m#print(_)\u001b[39;00m\n\u001b[1;32m      6\u001b[0m g \u001b[39m=\u001b[39m p\u001b[39m.\u001b[39mplot(grouped\u001b[39m.\u001b[39mindex, grouped[\u001b[39m'\u001b[39m\u001b[39mmean\u001b[39m\u001b[39m'\u001b[39m],ylim\u001b[39m=\u001b[39m[\u001b[39m0\u001b[39m,\u001b[39m1.01\u001b[39m], marker\u001b[39m=\u001b[39m\u001b[39m'\u001b[39m\u001b[39m,\u001b[39m\u001b[39m'\u001b[39m)\n",
      "File \u001b[0;32m~/WORKDIR/ChessRepertoireGenerator/notebooks/../src/ap3.py:747\u001b[0m, in \u001b[0;36mAFigure.plot\u001b[0;34m(self, x_seq, y_seq, marker, plot_slope, xlim, ylim)\u001b[0m\n\u001b[1;32m    744\u001b[0m \u001b[39mif\u001b[39;00m ylim \u001b[39mis\u001b[39;00m \u001b[39mnot\u001b[39;00m \u001b[39mNone\u001b[39;00m:\n\u001b[1;32m    745\u001b[0m     \u001b[39mself\u001b[39m\u001b[39m.\u001b[39mcanvas\u001b[39m.\u001b[39mylim(ylim)\n\u001b[0;32m--> 747\u001b[0m \u001b[39mreturn\u001b[39;00m \u001b[39mself\u001b[39;49m\u001b[39m.\u001b[39;49mdraw()\n",
      "File \u001b[0;32m~/WORKDIR/ChessRepertoireGenerator/notebooks/../src/ap3.py:791\u001b[0m, in \u001b[0;36mAFigure.draw\u001b[0;34m(self)\u001b[0m\n\u001b[1;32m    788\u001b[0m     \u001b[39mself\u001b[39m\u001b[39m.\u001b[39m_plot_labels()\n\u001b[1;32m    789\u001b[0m trans_result \u001b[39m=\u001b[39m _transpose(_y_reverse(\u001b[39mself\u001b[39m\u001b[39m.\u001b[39moutput_buffer))\n\u001b[0;32m--> 791\u001b[0m trans_result \u001b[39m=\u001b[39m \u001b[39mself\u001b[39;49m\u001b[39m.\u001b[39;49madd_axes_labels(\u001b[39mself\u001b[39;49m, \u001b[39mself\u001b[39;49m\u001b[39m.\u001b[39;49mx_axis_label, \u001b[39mself\u001b[39;49m\u001b[39m.\u001b[39;49my_axis_label, trans_result)\n\u001b[1;32m    793\u001b[0m result \u001b[39m=\u001b[39m \u001b[39mself\u001b[39m\u001b[39m.\u001b[39mnew_line\u001b[39m.\u001b[39mjoin([\u001b[39m\"\u001b[39m\u001b[39m\"\u001b[39m\u001b[39m.\u001b[39mjoin(row) \u001b[39mfor\u001b[39;00m row \u001b[39min\u001b[39;00m trans_result])\n\u001b[1;32m    794\u001b[0m \u001b[39mreturn\u001b[39;00m result\n",
      "\u001b[0;31mTypeError\u001b[0m: AFigure.add_axes_labels() takes from 1 to 4 positional arguments but 5 were given"
     ]
    }
   ],
   "source": [
    "#plt.errorbar(grouped.index, grouped['mean'], yerr=grouped['std'], fmt='o', capsize=5, label='Mean')\n",
    "p = AFigure(shape=(30, 20), xlabel=\"PIPPO\")\n",
    "zero_line = np.full(len(grouped.index), 0.0)\n",
    "_ = p.plot(grouped.index, zero_line, marker='-',plot_slope=True)\n",
    "#print(_)\n",
    "g = p.plot(grouped.index, grouped['mean'],ylim=[0,1.01], marker=',')\n",
    "print(g)"
   ]
  },
  {
   "cell_type": "code",
   "execution_count": null,
   "metadata": {},
   "outputs": [],
   "source": [
    "h = hist(df['ply'],histtype='None', return_str=True, shape=(30, 20), plot_labels=True)"
   ]
  },
  {
   "cell_type": "code",
   "execution_count": null,
   "metadata": {},
   "outputs": [
    {
     "name": "stdout",
     "output_type": "stream",
     "text": [
      " │                            \n",
      " ┼+29.67                    ∘ \n",
      " │                            \n",
      " │                            \n",
      " │                            \n",
      " │                            \n",
      " │                            \n",
      " │                            \n",
      " │                            \n",
      " │                            \n",
      " │                   ∘  ∘     \n",
      " │                            \n",
      " │                            \n",
      " │                            \n",
      " │                            \n",
      " │                            \n",
      " │         ∘   ∘              \n",
      " ┼+0.63                       \n",
      "─┼───────────∘───∘─∘──∘───∘─┼─\n",
      " │+0.03             +5.78477  \n"
     ]
    }
   ],
   "source": [
    "print(h)"
   ]
  },
  {
   "cell_type": "code",
   "execution_count": null,
   "metadata": {},
   "outputs": [
    {
     "name": "stdout",
     "output_type": "stream",
     "text": [
      " │                                       │                                      \n",
      " ┼+1                                     ┼+29.67                    ∘           \n",
      " │                                       │                                      \n",
      " │                                       │                                      \n",
      " │                                       │                                      \n",
      " │                                       │                                      \n",
      " │                                       │                                      \n",
      " │                                       │                                      \n",
      " │                                       │                                      \n",
      " │                                       │                                      \n",
      " │                                       │                   ∘  ∘               \n",
      " │                                       │                                      \n",
      " │                          ,            │                                      \n",
      " │        ,        ,                     │                                      \n",
      " │                                       │                                      \n",
      " │                      ,                │                                      \n",
      " │                                       │         ∘   ∘                        \n",
      " ┼+0.021      ,                          ┼+0.63                                 \n",
      "─┼-----------------------───┼─          ─┼───────────∘───∘─∘──∘───∘─┼─          \n",
      " │+0.031            +5.98425             │+0.03             +5.78477            \n"
     ]
    }
   ],
   "source": [
    "def align_strings(str1, str2):\n",
    "    lines1 = str1.split('\\n')\n",
    "    lines2 = str2.split('\\n')\n",
    "\n",
    "    for l1, l2 in zip(lines1, lines2):\n",
    "        # Pad each line with spaces to ensure they are all 50 characters long\n",
    "        l1 = l1.ljust(40)\n",
    "        l2 = l2.ljust(40)\n",
    "\n",
    "        # Combine the three lines and print them\n",
    "        print(f\"{l1}{l2}\")\n",
    "\n",
    "# Example usage:\n",
    "string1 = \"This is the first string\\nwith multiple lines\\ncontaining \\t and \\n characters.\"\n",
    "string2 = \"The second string\\nalso has\\ttabs\\nand newlines.\"\n",
    "string3 = \"Finally, the third string\\nends here.\"\n",
    "\n",
    "align_strings(g, h)\n"
   ]
  },
  {
   "cell_type": "code",
   "execution_count": null,
   "metadata": {},
   "outputs": [],
   "source": []
  },
  {
   "cell_type": "code",
   "execution_count": null,
   "metadata": {},
   "outputs": [],
   "source": []
  }
 ],
 "metadata": {
  "kernelspec": {
   "display_name": "base",
   "language": "python",
   "name": "python3"
  },
  "language_info": {
   "codemirror_mode": {
    "name": "ipython",
    "version": 3
   },
   "file_extension": ".py",
   "mimetype": "text/x-python",
   "name": "python",
   "nbconvert_exporter": "python",
   "pygments_lexer": "ipython3",
   "version": "3.10.9"
  },
  "orig_nbformat": 4
 },
 "nbformat": 4,
 "nbformat_minor": 2
}
