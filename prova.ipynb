{
 "cells": [
  {
   "cell_type": "code",
   "execution_count": 188,
   "metadata": {},
   "outputs": [],
   "source": [
    "import requests\n",
    "import chess\n",
    "import chess.pgn\n",
    "import json\n",
    "from chess.engine import Cp"
   ]
  },
  {
   "cell_type": "code",
   "execution_count": 189,
   "metadata": {},
   "outputs": [],
   "source": [
    "url = \"https://explorer.lichess.ovh/lichess\"\n",
    "\n",
    "params = {\n",
    "    \"variant\": \"standard\",\n",
    "    \"speeds\": \"blitz,rapid,classical\",\n",
    "    \"ratings\": \"2200,2500\",\n",
    "    \"fen\": None\n",
    "}"
   ]
  },
  {
   "cell_type": "code",
   "execution_count": 190,
   "metadata": {},
   "outputs": [],
   "source": [
    "game = chess.pgn.Game()\n",
    "\n",
    "game.headers[\"Event\"] = \"Example\""
   ]
  },
  {
   "cell_type": "code",
   "execution_count": 191,
   "metadata": {},
   "outputs": [],
   "source": [
    "node = game.add_variation(chess.Move.from_uci(\"g2g4\"))"
   ]
  },
  {
   "cell_type": "code",
   "execution_count": 192,
   "metadata": {},
   "outputs": [],
   "source": [
    "params[\"fen\"] = node.board().fen()"
   ]
  },
  {
   "cell_type": "code",
   "execution_count": 193,
   "metadata": {},
   "outputs": [],
   "source": [
    "response = requests.get(url, params=params)"
   ]
  },
  {
   "cell_type": "code",
   "execution_count": 194,
   "metadata": {},
   "outputs": [],
   "source": [
    "tree = json.loads(response.content.decode())"
   ]
  },
  {
   "cell_type": "code",
   "execution_count": 195,
   "metadata": {},
   "outputs": [
    {
     "data": {
      "text/plain": [
       "'d7d5'"
      ]
     },
     "execution_count": 195,
     "metadata": {},
     "output_type": "execute_result"
    }
   ],
   "source": [
    "tree['moves'][0]['uci']"
   ]
  },
  {
   "cell_type": "code",
   "execution_count": 196,
   "metadata": {},
   "outputs": [
    {
     "data": {
      "text/plain": [
       "1"
      ]
     },
     "execution_count": 196,
     "metadata": {},
     "output_type": "execute_result"
    }
   ],
   "source": [
    "node.ply()"
   ]
  },
  {
   "cell_type": "code",
   "execution_count": 197,
   "metadata": {},
   "outputs": [],
   "source": [
    "def get_cloud_eval(node):\n",
    "    \n",
    "    params_eval['fen'] = node.board().fen()\n",
    "    response = requests.get(url_eval, params=params_eval)\n",
    "    tree = json.loads(response.content.decode())\n",
    "        \n",
    "    return tree['pvs'][0]['cp']"
   ]
  },
  {
   "cell_type": "code",
   "execution_count": 198,
   "metadata": {},
   "outputs": [],
   "source": [
    "def compute_evaluations(node, tree_move, total_games):\n",
    "        \n",
    "    w = tree_move['white']\n",
    "    b = tree_move['black']\n",
    "    d = tree_move['draws']\n",
    "\n",
    "    tot = w+b+d\n",
    "\n",
    "    tree_move['white'] = (int)(w/tot * 100)\n",
    "    tree_move['black'] = (int)(b/tot * 100)\n",
    "    tree_move['draws'] = (int)(d/tot * 100)\n",
    "        \n",
    "    tree_move['perc'] = (int)((float)(tot)/total_games * 100.)\n",
    "    \n",
    "    n = node.add_variation(chess.Move.from_uci(tree_move['uci']))\n",
    "    tree_move['eval'] = get_cloud_eval(n)/100.\n",
    "        "
   ]
  },
  {
   "cell_type": "code",
   "execution_count": 209,
   "metadata": {},
   "outputs": [],
   "source": [
    "def filter_moves(bIsPlayerTurn, move_list, perc_cumulative):\n",
    "    \"\"\"filtra le mosse per trovare o le candidate per il giocatore oppure quelle da considerare dagli avversari\n",
    "\n",
    "    Args:\n",
    "        bIsPlayerTurn (bool): si ricerca la mossa del giocatore ?\n",
    "        move_list (list): tree['moves']\n",
    "        perc_cumulative (int): nel caso in cui si debbano considerare le mosse avversarie si vuole comprire una % totale non inferiore a questo numero\n",
    "\n",
    "    Returns:\n",
    "        list: lista delle mosse candidate e loro relativi commenti\n",
    "    \"\"\"\n",
    "    \n",
    "    ret_moves = []\n",
    "    \n",
    "    \n",
    "    \n",
    "    return ret_moves"
   ]
  },
  {
   "cell_type": "code",
   "execution_count": 206,
   "metadata": {},
   "outputs": [],
   "source": [
    "total_games = tree['white'] + tree['draws'] + tree['black']\n",
    "\n",
    "for move in tree['moves']:\n",
    "    compute_evaluations(node, move, total_games)\n",
    "    \n",
    "    \n",
    "eval_sorted_moves = sorted(tree['moves'], key=lambda x: x[\"eval\"])\n",
    "\n",
    "for i, item in enumerate(tree['moves']):\n",
    "    item[\"freq_pos\"] = i\n",
    "    item[\"eval_pos\"] = eval_sorted_moves.index(item)\n",
    "    item[\"relative_choid_diff\"] = item[\"eval_pos\"] - item[\"freq_pos\"]"
   ]
  },
  {
   "cell_type": "code",
   "execution_count": 207,
   "metadata": {},
   "outputs": [
    {
     "name": "stdout",
     "output_type": "stream",
     "text": [
      "d5 \t 0 \t 0 \t 0\n",
      "e5 \t 1 \t 1 \t 0\n",
      "d6 \t 2 \t 5 \t 3\n",
      "c5 \t 3 \t 2 \t -1\n",
      "h5 \t 4 \t 7 \t 3\n",
      "g6 \t 5 \t 8 \t 3\n",
      "c6 \t 6 \t 6 \t 0\n",
      "e6 \t 7 \t 4 \t -3\n",
      "Nf6 \t 8 \t 10 \t 2\n",
      "Nc6 \t 9 \t 3 \t -6\n",
      "b6 \t 10 \t 9 \t -1\n",
      "g5 \t 11 \t 11 \t 0\n"
     ]
    }
   ],
   "source": [
    "for move in tree['moves']:\n",
    "    print(move['san'], \"\\t\", move['freq_pos'], \"\\t\", move['eval_pos'], \"\\t\", move[\"relative_choid_diff\"])"
   ]
  },
  {
   "cell_type": "code",
   "execution_count": 204,
   "metadata": {},
   "outputs": [
    {
     "name": "stdout",
     "output_type": "stream",
     "text": [
      "🔴 🟠 🟡 🟢\n"
     ]
    }
   ],
   "source": [
    "print('\\U0001F534', '\\U0001F7E0', '\\U0001F7E1', '\\U0001F7E2')"
   ]
  },
  {
   "cell_type": "code",
   "execution_count": null,
   "metadata": {},
   "outputs": [],
   "source": []
  }
 ],
 "metadata": {
  "kernelspec": {
   "display_name": "base",
   "language": "python",
   "name": "python3"
  },
  "language_info": {
   "codemirror_mode": {
    "name": "ipython",
    "version": 3
   },
   "file_extension": ".py",
   "mimetype": "text/x-python",
   "name": "python",
   "nbconvert_exporter": "python",
   "pygments_lexer": "ipython3",
   "version": "3.10.9"
  },
  "orig_nbformat": 4
 },
 "nbformat": 4,
 "nbformat_minor": 2
}
